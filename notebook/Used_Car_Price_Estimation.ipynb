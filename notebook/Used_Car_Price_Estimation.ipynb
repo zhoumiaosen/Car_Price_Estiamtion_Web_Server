{
  "nbformat": 4,
  "nbformat_minor": 0,
  "metadata": {
    "colab": {
      "provenance": []
    },
    "kernelspec": {
      "name": "python3",
      "display_name": "Python 3"
    },
    "language_info": {
      "name": "python"
    }
  },
  "cells": [
    {
      "cell_type": "markdown",
      "source": [
        "#Load Functions"
      ],
      "metadata": {
        "id": "xM30p5SHP3YC"
      }
    },
    {
      "cell_type": "code",
      "source": [
        "import torch\n",
        "import torch.nn as nn\n",
        "import torch.optim as optim\n",
        "import pandas as pd\n",
        "from sklearn.model_selection import train_test_split\n",
        "from sklearn.preprocessing import LabelEncoder, StandardScaler, MinMaxScaler\n",
        "from sklearn.metrics import mean_squared_error"
      ],
      "metadata": {
        "id": "-_iKHjtVzo-1"
      },
      "execution_count": 1,
      "outputs": []
    },
    {
      "cell_type": "markdown",
      "source": [
        "#Locoal Function Build"
      ],
      "metadata": {
        "id": "aCIuqrbqzvGw"
      }
    },
    {
      "cell_type": "code",
      "source": [],
      "metadata": {
        "id": "H-4AFIgRzuYC"
      },
      "execution_count": 59,
      "outputs": []
    },
    {
      "cell_type": "code",
      "source": [],
      "metadata": {
        "id": "zu_ZsCRE12QV"
      },
      "execution_count": 59,
      "outputs": []
    },
    {
      "cell_type": "markdown",
      "source": [
        "#Data Wash"
      ],
      "metadata": {
        "id": "1pM98aGn1zIh"
      }
    },
    {
      "cell_type": "code",
      "source": [
        "# Load data\n",
        "df = pd.read_csv('cars.csv', encoding='utf-16')"
      ],
      "metadata": {
        "id": "fXpX1aap1yoa"
      },
      "execution_count": 60,
      "outputs": []
    },
    {
      "cell_type": "code",
      "source": [
        "df.head()"
      ],
      "metadata": {
        "colab": {
          "base_uri": "https://localhost:8080/",
          "height": 206
        },
        "id": "Duj_aRpg2sGj",
        "outputId": "a8ba5eff-4d96-4073-df5b-ac351b176874"
      },
      "execution_count": 61,
      "outputs": [
        {
          "output_type": "execute_result",
          "data": {
            "text/plain": [
              "       Brand     Model  Year Status  Mileage  \\\n",
              "0      Mazda      CX-5  2023    New      NaN   \n",
              "1        Kia  Sportage  2023    New      NaN   \n",
              "2  Chevrolet    Camaro  2024    New      NaN   \n",
              "3       Ford    Bronco  2023   Used   1551.0   \n",
              "4      Acura       TLX  2021   Used  30384.0   \n",
              "\n",
              "                               Dealer    Price  \n",
              "0                                 NaN  36703.0  \n",
              "1                         Classic Kia  28990.0  \n",
              "2          Classic Chevrolet Beaumont  41425.0  \n",
              "3  Mike Smith Chrysler Dodge Jeep RAM  58900.0  \n",
              "4                   Mike Smith Nissan  34499.0  "
            ],
            "text/html": [
              "\n",
              "  <div id=\"df-49eff95e-5d71-4e68-804a-212e2830a638\" class=\"colab-df-container\">\n",
              "    <div>\n",
              "<style scoped>\n",
              "    .dataframe tbody tr th:only-of-type {\n",
              "        vertical-align: middle;\n",
              "    }\n",
              "\n",
              "    .dataframe tbody tr th {\n",
              "        vertical-align: top;\n",
              "    }\n",
              "\n",
              "    .dataframe thead th {\n",
              "        text-align: right;\n",
              "    }\n",
              "</style>\n",
              "<table border=\"1\" class=\"dataframe\">\n",
              "  <thead>\n",
              "    <tr style=\"text-align: right;\">\n",
              "      <th></th>\n",
              "      <th>Brand</th>\n",
              "      <th>Model</th>\n",
              "      <th>Year</th>\n",
              "      <th>Status</th>\n",
              "      <th>Mileage</th>\n",
              "      <th>Dealer</th>\n",
              "      <th>Price</th>\n",
              "    </tr>\n",
              "  </thead>\n",
              "  <tbody>\n",
              "    <tr>\n",
              "      <th>0</th>\n",
              "      <td>Mazda</td>\n",
              "      <td>CX-5</td>\n",
              "      <td>2023</td>\n",
              "      <td>New</td>\n",
              "      <td>NaN</td>\n",
              "      <td>NaN</td>\n",
              "      <td>36703.0</td>\n",
              "    </tr>\n",
              "    <tr>\n",
              "      <th>1</th>\n",
              "      <td>Kia</td>\n",
              "      <td>Sportage</td>\n",
              "      <td>2023</td>\n",
              "      <td>New</td>\n",
              "      <td>NaN</td>\n",
              "      <td>Classic Kia</td>\n",
              "      <td>28990.0</td>\n",
              "    </tr>\n",
              "    <tr>\n",
              "      <th>2</th>\n",
              "      <td>Chevrolet</td>\n",
              "      <td>Camaro</td>\n",
              "      <td>2024</td>\n",
              "      <td>New</td>\n",
              "      <td>NaN</td>\n",
              "      <td>Classic Chevrolet Beaumont</td>\n",
              "      <td>41425.0</td>\n",
              "    </tr>\n",
              "    <tr>\n",
              "      <th>3</th>\n",
              "      <td>Ford</td>\n",
              "      <td>Bronco</td>\n",
              "      <td>2023</td>\n",
              "      <td>Used</td>\n",
              "      <td>1551.0</td>\n",
              "      <td>Mike Smith Chrysler Dodge Jeep RAM</td>\n",
              "      <td>58900.0</td>\n",
              "    </tr>\n",
              "    <tr>\n",
              "      <th>4</th>\n",
              "      <td>Acura</td>\n",
              "      <td>TLX</td>\n",
              "      <td>2021</td>\n",
              "      <td>Used</td>\n",
              "      <td>30384.0</td>\n",
              "      <td>Mike Smith Nissan</td>\n",
              "      <td>34499.0</td>\n",
              "    </tr>\n",
              "  </tbody>\n",
              "</table>\n",
              "</div>\n",
              "    <div class=\"colab-df-buttons\">\n",
              "\n",
              "  <div class=\"colab-df-container\">\n",
              "    <button class=\"colab-df-convert\" onclick=\"convertToInteractive('df-49eff95e-5d71-4e68-804a-212e2830a638')\"\n",
              "            title=\"Convert this dataframe to an interactive table.\"\n",
              "            style=\"display:none;\">\n",
              "\n",
              "  <svg xmlns=\"http://www.w3.org/2000/svg\" height=\"24px\" viewBox=\"0 -960 960 960\">\n",
              "    <path d=\"M120-120v-720h720v720H120Zm60-500h600v-160H180v160Zm220 220h160v-160H400v160Zm0 220h160v-160H400v160ZM180-400h160v-160H180v160Zm440 0h160v-160H620v160ZM180-180h160v-160H180v160Zm440 0h160v-160H620v160Z\"/>\n",
              "  </svg>\n",
              "    </button>\n",
              "\n",
              "  <style>\n",
              "    .colab-df-container {\n",
              "      display:flex;\n",
              "      gap: 12px;\n",
              "    }\n",
              "\n",
              "    .colab-df-convert {\n",
              "      background-color: #E8F0FE;\n",
              "      border: none;\n",
              "      border-radius: 50%;\n",
              "      cursor: pointer;\n",
              "      display: none;\n",
              "      fill: #1967D2;\n",
              "      height: 32px;\n",
              "      padding: 0 0 0 0;\n",
              "      width: 32px;\n",
              "    }\n",
              "\n",
              "    .colab-df-convert:hover {\n",
              "      background-color: #E2EBFA;\n",
              "      box-shadow: 0px 1px 2px rgba(60, 64, 67, 0.3), 0px 1px 3px 1px rgba(60, 64, 67, 0.15);\n",
              "      fill: #174EA6;\n",
              "    }\n",
              "\n",
              "    .colab-df-buttons div {\n",
              "      margin-bottom: 4px;\n",
              "    }\n",
              "\n",
              "    [theme=dark] .colab-df-convert {\n",
              "      background-color: #3B4455;\n",
              "      fill: #D2E3FC;\n",
              "    }\n",
              "\n",
              "    [theme=dark] .colab-df-convert:hover {\n",
              "      background-color: #434B5C;\n",
              "      box-shadow: 0px 1px 3px 1px rgba(0, 0, 0, 0.15);\n",
              "      filter: drop-shadow(0px 1px 2px rgba(0, 0, 0, 0.3));\n",
              "      fill: #FFFFFF;\n",
              "    }\n",
              "  </style>\n",
              "\n",
              "    <script>\n",
              "      const buttonEl =\n",
              "        document.querySelector('#df-49eff95e-5d71-4e68-804a-212e2830a638 button.colab-df-convert');\n",
              "      buttonEl.style.display =\n",
              "        google.colab.kernel.accessAllowed ? 'block' : 'none';\n",
              "\n",
              "      async function convertToInteractive(key) {\n",
              "        const element = document.querySelector('#df-49eff95e-5d71-4e68-804a-212e2830a638');\n",
              "        const dataTable =\n",
              "          await google.colab.kernel.invokeFunction('convertToInteractive',\n",
              "                                                    [key], {});\n",
              "        if (!dataTable) return;\n",
              "\n",
              "        const docLinkHtml = 'Like what you see? Visit the ' +\n",
              "          '<a target=\"_blank\" href=https://colab.research.google.com/notebooks/data_table.ipynb>data table notebook</a>'\n",
              "          + ' to learn more about interactive tables.';\n",
              "        element.innerHTML = '';\n",
              "        dataTable['output_type'] = 'display_data';\n",
              "        await google.colab.output.renderOutput(dataTable, element);\n",
              "        const docLink = document.createElement('div');\n",
              "        docLink.innerHTML = docLinkHtml;\n",
              "        element.appendChild(docLink);\n",
              "      }\n",
              "    </script>\n",
              "  </div>\n",
              "\n",
              "\n",
              "<div id=\"df-22ec5f42-6f46-4853-ab2a-a7e85a21ab9f\">\n",
              "  <button class=\"colab-df-quickchart\" onclick=\"quickchart('df-22ec5f42-6f46-4853-ab2a-a7e85a21ab9f')\"\n",
              "            title=\"Suggest charts\"\n",
              "            style=\"display:none;\">\n",
              "\n",
              "<svg xmlns=\"http://www.w3.org/2000/svg\" height=\"24px\"viewBox=\"0 0 24 24\"\n",
              "     width=\"24px\">\n",
              "    <g>\n",
              "        <path d=\"M19 3H5c-1.1 0-2 .9-2 2v14c0 1.1.9 2 2 2h14c1.1 0 2-.9 2-2V5c0-1.1-.9-2-2-2zM9 17H7v-7h2v7zm4 0h-2V7h2v10zm4 0h-2v-4h2v4z\"/>\n",
              "    </g>\n",
              "</svg>\n",
              "  </button>\n",
              "\n",
              "<style>\n",
              "  .colab-df-quickchart {\n",
              "      --bg-color: #E8F0FE;\n",
              "      --fill-color: #1967D2;\n",
              "      --hover-bg-color: #E2EBFA;\n",
              "      --hover-fill-color: #174EA6;\n",
              "      --disabled-fill-color: #AAA;\n",
              "      --disabled-bg-color: #DDD;\n",
              "  }\n",
              "\n",
              "  [theme=dark] .colab-df-quickchart {\n",
              "      --bg-color: #3B4455;\n",
              "      --fill-color: #D2E3FC;\n",
              "      --hover-bg-color: #434B5C;\n",
              "      --hover-fill-color: #FFFFFF;\n",
              "      --disabled-bg-color: #3B4455;\n",
              "      --disabled-fill-color: #666;\n",
              "  }\n",
              "\n",
              "  .colab-df-quickchart {\n",
              "    background-color: var(--bg-color);\n",
              "    border: none;\n",
              "    border-radius: 50%;\n",
              "    cursor: pointer;\n",
              "    display: none;\n",
              "    fill: var(--fill-color);\n",
              "    height: 32px;\n",
              "    padding: 0;\n",
              "    width: 32px;\n",
              "  }\n",
              "\n",
              "  .colab-df-quickchart:hover {\n",
              "    background-color: var(--hover-bg-color);\n",
              "    box-shadow: 0 1px 2px rgba(60, 64, 67, 0.3), 0 1px 3px 1px rgba(60, 64, 67, 0.15);\n",
              "    fill: var(--button-hover-fill-color);\n",
              "  }\n",
              "\n",
              "  .colab-df-quickchart-complete:disabled,\n",
              "  .colab-df-quickchart-complete:disabled:hover {\n",
              "    background-color: var(--disabled-bg-color);\n",
              "    fill: var(--disabled-fill-color);\n",
              "    box-shadow: none;\n",
              "  }\n",
              "\n",
              "  .colab-df-spinner {\n",
              "    border: 2px solid var(--fill-color);\n",
              "    border-color: transparent;\n",
              "    border-bottom-color: var(--fill-color);\n",
              "    animation:\n",
              "      spin 1s steps(1) infinite;\n",
              "  }\n",
              "\n",
              "  @keyframes spin {\n",
              "    0% {\n",
              "      border-color: transparent;\n",
              "      border-bottom-color: var(--fill-color);\n",
              "      border-left-color: var(--fill-color);\n",
              "    }\n",
              "    20% {\n",
              "      border-color: transparent;\n",
              "      border-left-color: var(--fill-color);\n",
              "      border-top-color: var(--fill-color);\n",
              "    }\n",
              "    30% {\n",
              "      border-color: transparent;\n",
              "      border-left-color: var(--fill-color);\n",
              "      border-top-color: var(--fill-color);\n",
              "      border-right-color: var(--fill-color);\n",
              "    }\n",
              "    40% {\n",
              "      border-color: transparent;\n",
              "      border-right-color: var(--fill-color);\n",
              "      border-top-color: var(--fill-color);\n",
              "    }\n",
              "    60% {\n",
              "      border-color: transparent;\n",
              "      border-right-color: var(--fill-color);\n",
              "    }\n",
              "    80% {\n",
              "      border-color: transparent;\n",
              "      border-right-color: var(--fill-color);\n",
              "      border-bottom-color: var(--fill-color);\n",
              "    }\n",
              "    90% {\n",
              "      border-color: transparent;\n",
              "      border-bottom-color: var(--fill-color);\n",
              "    }\n",
              "  }\n",
              "</style>\n",
              "\n",
              "  <script>\n",
              "    async function quickchart(key) {\n",
              "      const quickchartButtonEl =\n",
              "        document.querySelector('#' + key + ' button');\n",
              "      quickchartButtonEl.disabled = true;  // To prevent multiple clicks.\n",
              "      quickchartButtonEl.classList.add('colab-df-spinner');\n",
              "      try {\n",
              "        const charts = await google.colab.kernel.invokeFunction(\n",
              "            'suggestCharts', [key], {});\n",
              "      } catch (error) {\n",
              "        console.error('Error during call to suggestCharts:', error);\n",
              "      }\n",
              "      quickchartButtonEl.classList.remove('colab-df-spinner');\n",
              "      quickchartButtonEl.classList.add('colab-df-quickchart-complete');\n",
              "    }\n",
              "    (() => {\n",
              "      let quickchartButtonEl =\n",
              "        document.querySelector('#df-22ec5f42-6f46-4853-ab2a-a7e85a21ab9f button');\n",
              "      quickchartButtonEl.style.display =\n",
              "        google.colab.kernel.accessAllowed ? 'block' : 'none';\n",
              "    })();\n",
              "  </script>\n",
              "</div>\n",
              "\n",
              "    </div>\n",
              "  </div>\n"
            ],
            "application/vnd.google.colaboratory.intrinsic+json": {
              "type": "dataframe",
              "variable_name": "df"
            }
          },
          "metadata": {},
          "execution_count": 61
        }
      ]
    },
    {
      "cell_type": "code",
      "source": [
        "df.isna().sum()"
      ],
      "metadata": {
        "colab": {
          "base_uri": "https://localhost:8080/",
          "height": 304
        },
        "id": "Q_DghKkl4SoW",
        "outputId": "b50797bb-65b2-4f7f-c470-2df93fc6ae70"
      },
      "execution_count": 62,
      "outputs": [
        {
          "output_type": "execute_result",
          "data": {
            "text/plain": [
              "Brand          0\n",
              "Model          0\n",
              "Year           0\n",
              "Status         0\n",
              "Mileage    88953\n",
              "Dealer       328\n",
              "Price       3911\n",
              "dtype: int64"
            ],
            "text/html": [
              "<div>\n",
              "<style scoped>\n",
              "    .dataframe tbody tr th:only-of-type {\n",
              "        vertical-align: middle;\n",
              "    }\n",
              "\n",
              "    .dataframe tbody tr th {\n",
              "        vertical-align: top;\n",
              "    }\n",
              "\n",
              "    .dataframe thead th {\n",
              "        text-align: right;\n",
              "    }\n",
              "</style>\n",
              "<table border=\"1\" class=\"dataframe\">\n",
              "  <thead>\n",
              "    <tr style=\"text-align: right;\">\n",
              "      <th></th>\n",
              "      <th>0</th>\n",
              "    </tr>\n",
              "  </thead>\n",
              "  <tbody>\n",
              "    <tr>\n",
              "      <th>Brand</th>\n",
              "      <td>0</td>\n",
              "    </tr>\n",
              "    <tr>\n",
              "      <th>Model</th>\n",
              "      <td>0</td>\n",
              "    </tr>\n",
              "    <tr>\n",
              "      <th>Year</th>\n",
              "      <td>0</td>\n",
              "    </tr>\n",
              "    <tr>\n",
              "      <th>Status</th>\n",
              "      <td>0</td>\n",
              "    </tr>\n",
              "    <tr>\n",
              "      <th>Mileage</th>\n",
              "      <td>88953</td>\n",
              "    </tr>\n",
              "    <tr>\n",
              "      <th>Dealer</th>\n",
              "      <td>328</td>\n",
              "    </tr>\n",
              "    <tr>\n",
              "      <th>Price</th>\n",
              "      <td>3911</td>\n",
              "    </tr>\n",
              "  </tbody>\n",
              "</table>\n",
              "</div><br><label><b>dtype:</b> int64</label>"
            ]
          },
          "metadata": {},
          "execution_count": 62
        }
      ]
    },
    {
      "cell_type": "code",
      "source": [
        "# Change Mileage NaN to 0 if Status is new\n",
        "df['Mileage'] = df.apply(lambda row: 0 if (pd.isna(row['Mileage']) and row['Status'] == 'New') else row['Mileage'], axis=1)\n",
        "# Drop rows where 'Status' is 'Used' and 'Mileage' is NaN\n",
        "df = df.drop(df[(df['Status'] == 'Used') & (df['Mileage'].isna())].index)\n",
        "df.isna().sum()"
      ],
      "metadata": {
        "colab": {
          "base_uri": "https://localhost:8080/",
          "height": 304
        },
        "id": "mKOCBs_X41w5",
        "outputId": "a010d692-0f5f-4c1a-863b-be6977215ce7"
      },
      "execution_count": 63,
      "outputs": [
        {
          "output_type": "execute_result",
          "data": {
            "text/plain": [
              "Brand         0\n",
              "Model         0\n",
              "Year          0\n",
              "Status        0\n",
              "Mileage       0\n",
              "Dealer      328\n",
              "Price      3911\n",
              "dtype: int64"
            ],
            "text/html": [
              "<div>\n",
              "<style scoped>\n",
              "    .dataframe tbody tr th:only-of-type {\n",
              "        vertical-align: middle;\n",
              "    }\n",
              "\n",
              "    .dataframe tbody tr th {\n",
              "        vertical-align: top;\n",
              "    }\n",
              "\n",
              "    .dataframe thead th {\n",
              "        text-align: right;\n",
              "    }\n",
              "</style>\n",
              "<table border=\"1\" class=\"dataframe\">\n",
              "  <thead>\n",
              "    <tr style=\"text-align: right;\">\n",
              "      <th></th>\n",
              "      <th>0</th>\n",
              "    </tr>\n",
              "  </thead>\n",
              "  <tbody>\n",
              "    <tr>\n",
              "      <th>Brand</th>\n",
              "      <td>0</td>\n",
              "    </tr>\n",
              "    <tr>\n",
              "      <th>Model</th>\n",
              "      <td>0</td>\n",
              "    </tr>\n",
              "    <tr>\n",
              "      <th>Year</th>\n",
              "      <td>0</td>\n",
              "    </tr>\n",
              "    <tr>\n",
              "      <th>Status</th>\n",
              "      <td>0</td>\n",
              "    </tr>\n",
              "    <tr>\n",
              "      <th>Mileage</th>\n",
              "      <td>0</td>\n",
              "    </tr>\n",
              "    <tr>\n",
              "      <th>Dealer</th>\n",
              "      <td>328</td>\n",
              "    </tr>\n",
              "    <tr>\n",
              "      <th>Price</th>\n",
              "      <td>3911</td>\n",
              "    </tr>\n",
              "  </tbody>\n",
              "</table>\n",
              "</div><br><label><b>dtype:</b> int64</label>"
            ]
          },
          "metadata": {},
          "execution_count": 63
        }
      ]
    },
    {
      "cell_type": "code",
      "source": [
        "# Drop rows with NaN in 'Price' column\n",
        "df.dropna(subset=['Price'], inplace=True)"
      ],
      "metadata": {
        "id": "QKTlmqeF5TyY"
      },
      "execution_count": 64,
      "outputs": []
    },
    {
      "cell_type": "code",
      "source": [
        "# Drop 'Dealer' column\n",
        "df = df.drop('Dealer', axis=1)"
      ],
      "metadata": {
        "id": "Sh6zutVj6k7e"
      },
      "execution_count": 65,
      "outputs": []
    },
    {
      "cell_type": "code",
      "source": [
        "df.isna().sum()"
      ],
      "metadata": {
        "colab": {
          "base_uri": "https://localhost:8080/",
          "height": 272
        },
        "id": "FIL743nz6nGQ",
        "outputId": "6ef463eb-179e-4283-b71c-c0a089f9331d"
      },
      "execution_count": 66,
      "outputs": [
        {
          "output_type": "execute_result",
          "data": {
            "text/plain": [
              "Brand      0\n",
              "Model      0\n",
              "Year       0\n",
              "Status     0\n",
              "Mileage    0\n",
              "Price      0\n",
              "dtype: int64"
            ],
            "text/html": [
              "<div>\n",
              "<style scoped>\n",
              "    .dataframe tbody tr th:only-of-type {\n",
              "        vertical-align: middle;\n",
              "    }\n",
              "\n",
              "    .dataframe tbody tr th {\n",
              "        vertical-align: top;\n",
              "    }\n",
              "\n",
              "    .dataframe thead th {\n",
              "        text-align: right;\n",
              "    }\n",
              "</style>\n",
              "<table border=\"1\" class=\"dataframe\">\n",
              "  <thead>\n",
              "    <tr style=\"text-align: right;\">\n",
              "      <th></th>\n",
              "      <th>0</th>\n",
              "    </tr>\n",
              "  </thead>\n",
              "  <tbody>\n",
              "    <tr>\n",
              "      <th>Brand</th>\n",
              "      <td>0</td>\n",
              "    </tr>\n",
              "    <tr>\n",
              "      <th>Model</th>\n",
              "      <td>0</td>\n",
              "    </tr>\n",
              "    <tr>\n",
              "      <th>Year</th>\n",
              "      <td>0</td>\n",
              "    </tr>\n",
              "    <tr>\n",
              "      <th>Status</th>\n",
              "      <td>0</td>\n",
              "    </tr>\n",
              "    <tr>\n",
              "      <th>Mileage</th>\n",
              "      <td>0</td>\n",
              "    </tr>\n",
              "    <tr>\n",
              "      <th>Price</th>\n",
              "      <td>0</td>\n",
              "    </tr>\n",
              "  </tbody>\n",
              "</table>\n",
              "</div><br><label><b>dtype:</b> int64</label>"
            ]
          },
          "metadata": {},
          "execution_count": 66
        }
      ]
    },
    {
      "cell_type": "markdown",
      "source": [
        "#Encodeing Features to Traning Lables"
      ],
      "metadata": {
        "id": "WjdmavCk8QQ9"
      }
    },
    {
      "cell_type": "code",
      "source": [
        "# Check unique brands\n",
        "print(df['Brand'].unique())\n",
        "print(df['Brand'].nunique())"
      ],
      "metadata": {
        "colab": {
          "base_uri": "https://localhost:8080/"
        },
        "id": "p3J2ksep6q3s",
        "outputId": "8212cba4-d92f-45c3-a3c8-a7a470a032c6"
      },
      "execution_count": 67,
      "outputs": [
        {
          "output_type": "stream",
          "name": "stdout",
          "text": [
            "['Mazda' 'Kia' 'Chevrolet' 'Ford' 'Acura' 'Volkswagen' 'GMC' 'BMW'\n",
            " 'Hyundai' 'Jeep' 'Dodge' 'Infiniti' 'Honda' 'Lexus' 'Toyota' 'Cadillac'\n",
            " 'Buick' 'Lincoln' 'Mercury' 'MINI' 'RAM' 'Land Rover' 'Audi' 'Nissan'\n",
            " 'Mercedes' 'Porsche' 'Subaru' 'Jaguar' 'Maserati' 'Alfa Romeo' 'Tesla'\n",
            " 'Bentley' 'Genesis' 'Volvo' 'Chrysler' 'Mitsubishi' 'FIAT' 'Rivian'\n",
            " 'Aston Martin' 'Lamborghini' 'Hummer' 'Saturn' 'Rolls-Royce' 'Ferrari'\n",
            " 'Polestar' 'Lucid' 'Scion' 'Pontiac' 'Karma' 'Smart' 'McLaren' 'Lotus'\n",
            " 'Saab' 'Maybach' 'Suzuki' 'International Scout' 'Plymouth' 'Geo' 'Isuzu'\n",
            " 'Oldsmobile' 'Bugatti' 'Eagle']\n",
            "62\n"
          ]
        }
      ]
    },
    {
      "cell_type": "code",
      "source": [
        "# Encoder the Brand to traning lables\n",
        "Brand_encoder = LabelEncoder()\n",
        "df['Brand'] = Brand_encoder.fit_transform(df['Brand'])\n",
        "print(df['Brand'].unique())"
      ],
      "metadata": {
        "colab": {
          "base_uri": "https://localhost:8080/"
        },
        "id": "XVDmSSIg6_Tu",
        "outputId": "7b22fe0d-29e3-4cb1-edac-24f3f09cca0b"
      },
      "execution_count": 68,
      "outputs": [
        {
          "output_type": "stream",
          "name": "stdout",
          "text": [
            "[38 28  9 15  0 60 16  4 21 26 11 22 19 31 59  8  7 32 41 35 49 30  3 43\n",
            " 40 48 56 25 36  1 58  5 17 61 10 42 13 50  2 29 20 53 51 14 46 34 54 47\n",
            " 27 55 39 33 52 37 57 23 45 18 24 44  6 12]\n"
          ]
        }
      ]
    },
    {
      "cell_type": "code",
      "source": [
        "# Check unique Models\n",
        "print(df['Model'].unique())\n",
        "print(df['Model'].nunique())"
      ],
      "metadata": {
        "colab": {
          "base_uri": "https://localhost:8080/"
        },
        "id": "4Vyc-5997m9a",
        "outputId": "448d4824-abc0-44ad-8b4c-8e1021f84654"
      },
      "execution_count": 69,
      "outputs": [
        {
          "output_type": "stream",
          "name": "stdout",
          "text": [
            "['CX-5' 'Sportage' 'Camaro' 'Bronco' 'TLX' 'Golf' 'Yukon' 'M340' 'Sonata'\n",
            " 'Grand Cherokee' 'Wagoneer' 'Durango' 'Mustang' 'F-350' 'QX30' 'Passport'\n",
            " 'ES' 'Sierra' 'CX-30' 'Tundra' 'CT5' 'Envista' 'Civic' 'Accord' 'Atlas'\n",
            " '4Runner' 'Mazda3' 'Sequoia' 'Continental' 'Marquis' 'IS' 'LX' 'RZ 450e'\n",
            " 'Escalade' 'LS' 'Nautilus' 'Integra' 'MDX' '435 i' 'ILX' 'Palisade' 'X7'\n",
            " 'Escape' 'Cooper' 'iX M60' 'X3' 'Canyon' 'Land Cruiser' 'LYRIQ' 'Trax'\n",
            " '1500' 'Navigator' 'Range Rover' 'RS 5' 'Leaf' 'Altima' 'E-Class'\n",
            " 'GLS 600' 'Highlander' 'GLS 450' 'Cayenne' 'Q7' 'TT' 'Wrangler' 'GT'\n",
            " 'F-150' 'F-250' 'Defender' 'QX80' 'QX60' 'Essentia' 'GLE' 'Panamera' 'M3'\n",
            " 'Telluride' 'Forte' 'A7' 'X5' '330 i' 'iX xDrive50' '740' 'Juke' 'CT6'\n",
            " 'WRX' 'Crosstrek' 'Ranger' 'Explorer' 'Town Car' 'Fusion' '2500'\n",
            " 'Gladiator' 'Q5' 'F-PACE' 'Discovery' 'Silverado' 'GLA' 'G 550' 'e-tron'\n",
            " 'S-Class' 'Ghibli' 'Tahoe' 'ID.4' '6' 'CR-V' 'Elantra' 'GX' 'Odyssey'\n",
            " 'Giulia' 'Corvette' 'C-Class' 'CX-9' 'Traverse' 'CL' 'X4' '3' 'Suburban'\n",
            " 'Fiesta' 'Tacoma' 'Model X' 'Flying Spur' 'Roadster' 'Corsair'\n",
            " 'MX-5 Miata' 'xD' 'Tucson' 'RX' 'LC' 'Macan' 'Taycan' 'RDX' 'Outback'\n",
            " 'GV80' 'G70' 'Challenger' 'Ascent' 'XT4' '1' 'Pathfinder' 'GLC' 'AMG GT'\n",
            " 'GLS 580' '300' '4MATIC' 'Acadia' 'RS 7' 'SQ5' '540 i' 'A8' 'QX50' 'S3'\n",
            " 'Charger' 'Equinox' 'Coupe' 'GR86' 'Prius' 'Armada' 'Maxima' 'Rogue'\n",
            " 'Kicks' 'Sentra' 'Camry' 'Aviator' 'Pilot' 'Expedition' 'Colorado' 'Soul'\n",
            " 'Legacy' 'Corolla' 'Sienna' 'Crown' 'XC90' '3500' 'Mirage' 'Terrain'\n",
            " 'Renegade' 'Envision' 'Carnival' 'Sorento' 'Model S' 'RAV4' 'Tiguan'\n",
            " 'Jetta' '86' '500' 'Model Y' 'Viper' 'R1S' 'Ioniq' 'S90' 'Model 3'\n",
            " 'F-450' 'CT4-V' 'Supra' 'Q40' 'Avalon' 'M5' 'Outlander' 'A4' 'Titan'\n",
            " 'C-HR' 'Venza' 'Cruze' 'XC60' 'CX-3' 'Kona' 'XT6' 'FJ Cruiser' 'G80'\n",
            " 'SRX' 'Passat' 'Malibu' 'Ridgeline' 'CT4' 'Blazer' 'S8' 'Vantage' 'Versa'\n",
            " 'Enclave' '911' 'Santa Cruz' 'SC 400' 'X6' 'M850 i' 'Aventador' 'CLA'\n",
            " 'Journey' 'AMG E53' 'Santa Fe' 'GS 350' 'Grand Wagoneer' 'G90' 'S5'\n",
            " 'HR-V' 'H2 SUT' 'Q8' 'SL 400' 'Sky' 'Excursion' 'RC' 'Levante' 'Cayman'\n",
            " 'Compass' 'Cherokee' 'Cullinan' 'XT5' 'M440 i' '750 i' 'UX' '430 i' 'NX'\n",
            " 'California' 'Niro' 'Maverick' 'BRZ' 'Boxster' 'QX56' '750' 'Bentayga'\n",
            " 'Quattroporte' 'H3' 'Thunderbird' '2' 'S60' 'Q3' 'A3' 'A6' 'XB7' 'GLB'\n",
            " 'GS F' 'Bolt' 'Rio' 'Seltos' 'Q60' 'Azera' 'R32' 'M4' 'XC40' 'Electric'\n",
            " 'GL 450' 'MKZ' 'Grand Touring' 'Murano' 'SQ8' 'LR4' 'Solterra' 'Flex'\n",
            " 'RLX' 'V60' 'MKC' 'V90' 'Stinger' 'EQS' 'A5' 'Impala' 'Trailblazer'\n",
            " 'Stelvio' 'K5' 'M2' 'Spider' 'C70' 'CTS' '535 i' 'Encore' 'M6' 'Fit' 'TC'\n",
            " 'Edge' 'F-TYPE' 'Focus' 'GV70' 'S4' 'Frontier' 'Z Sport' 'Optima'\n",
            " 'NV200 S' 'Patriot' 'GranTurismo' 'Forester' 'SLK32' 'Pacifica' 'C 43'\n",
            " 'Town & Country' 'Transit' 'SC 430' 'R8' 'SL 550' 'TL' 'MC20' 'I-PACE'\n",
            " 'Venue' 'CR-Z' 'Impreza' '440 i' 'XK' 'Touareg' 'Spyder' 'i3' 'XM' 'M8'\n",
            " 'Xterra' '760i' 'i7' '525' 'E-PACE' 'Eclipse Cross' 'Mazda6' 'Yaris'\n",
            " 'M-Class' '718' 'XE' 'R1T' 'SLK-Class' 'X2' '428 i' 'Quest' 'Dart'\n",
            " '550 i' 'QX70' 'Z4' 'EV6' 'i8' 'XF' 'K900' 'Mariner' 'MKS' 'Grecale'\n",
            " 'SL 55' 'Volt' 'MKT' 'S6' 'ARIYA' 'Arteon' 'Regal' 'LeSabre' 'ATS'\n",
            " 'S2000' 'A-Class' 'Accent' 'Aveo' 'PT Cruiser' 'LaCrosse' 'C30'\n",
            " 'Chevelle' '4500' 'Veloster' '528 i' '720S' '530 i' 'Taos' 'LTD' 'SLK300'\n",
            " 'RS6' 'MX-30' 'Cascada' 'C-Max' 'E-Transit' 'XC70' 'Avalanche' 'Ghost'\n",
            " 'DB11' 'CC' 'Firebird' 'X1' 'Taurus' 'Lancer' 'QX55' 'Crosstour' 'Beetle'\n",
            " 'NV3500' 'Metris' 'EcoSport' 'Lucerne' '535' 'Tonale' 'XTS' 'Z'\n",
            " 'Police Interceptor' 'Sonic' 'C10' 'Verano' 'DTS' 'DBX' 'FF Base'\n",
            " 'Gallardo' 'Arnage' 'S7' 'Urus' 'Silver Seraph' 'Alpina' 'Liberty' 'xB'\n",
            " '9-3' 'Matrix' 'Type 57' '840 i' 'LR2' 'SQ7' 'XJ' 'Cabrio' 'e-Golf'\n",
            " 'DeVille' 'Solstice' 'Eos' 'Artura' 'iQ' 'Hornet' 'H2' 'CJ-5' 'RS 3'\n",
            " '528i' 'MKX' 'XL7' 'XLR' 'Hardtop' 'E350' 'B4000' 'Tribeca' 'Crossfire'\n",
            " 'Huracan' 'Savana' 'M760 i' 'i-MiEV' 'GV60' 'Scout' 'FX35' 'Park Avenue'\n",
            " '530e' 'Grand Prix' 'Air' 'SL 43' 'M35' 'F8 Tributo' 'Cadenza' 'Insight'\n",
            " 'FR-S' 'NSX' 'Valiant' 'EQE' 'E250' 'TSX' 'MazdaSpeed3' 'Stealth' '430i'\n",
            " 'SS' 'Sprinter' 'Mulsanne' 'Sebring' 'bZ4X' 'Magnum' 'S209' 'Commander'\n",
            " 'Dakota' 'Grand Caravan' 'G6' 'Phantom' 'G37' 'Element' 'Monte Carlo'\n",
            " 'MR2' 'Wraith' 'Captiva' 'Avenger' 'DBS' 'El Camino' '745 i' '600LT'\n",
            " 'SL 450' '530i' 'Tracker' '850' '488' 'Convertible' 'Strada' 'SLC 43'\n",
            " 'i5' 'Equus' 'Dawn' 'ELR' 'Mazda5' 'Vibe' 'Equator' 'G20' '528' 'G35'\n",
            " 'Neon' 'S-TYPE' '540i' '812 Superfast' 'F1' 'Genesis' 'GTC4Lusso'\n",
            " 'Mazda2' 'Astro' 'H1' 'Five Hundred' 'E150' 'Roma' 'Vanquish' '488 GTB'\n",
            " 'Tribute' 'Q45' 'DB9' 'Countryman' 'GS' 'Sedona' 'Nitro' 'Galant'\n",
            " 'Reatta' '9-5' 'B2' 'Cobalt' 'ProMaster' 'NV1500' 'ActiveHybrid 5' '4C'\n",
            " 'Trooper' 'ForTwo' '570S' 'Spectra5' 'XG350' 'Elise' 'Marauder' 'Torrent'\n",
            " 'Mountaineer' 'Vue' 'G25x' 'NV2500' 'Baja' '675LT' '560 SL' 'del Sol'\n",
            " 'Riviera' '928' 'Aztek' '570GT' '914' 'SLK350' 'Century' 'Allante' '840i'\n",
            " 'Rondo' 'RS 4' 'Aura' 'W460' 'Prowler' 'Envoy' 'Duster' 'STS' 'Caravan'\n",
            " 'HHR' 'Cavalier' 'Cutlass' 'Mark' 'Eurovan' 'JX35' 'RL' 'Venture' 'SL55'\n",
            " 'Bonneville' 'Rapide' 'GS-6' 'Eldorado' 'Grand Vitara' 'SX4' 'SLS'\n",
            " 'Portofino' 'Endeavor' 'CX-7' 'B3000' 'Caliber' 'Chiron' 'Mirai' '575 M'\n",
            " 'Milan' 'IS-F' 'F430' 'Fleetwood' 'Talon' 'G8' 'S-10' 'Prelude' 'CJ-7'\n",
            " 'FX37' 'Corniche' 'Veracruz' 'Pickup Truck' 'G5' 'Ranchero' '944'\n",
            " 'Silver' 'Fiero' 'Uplander' 'Scion' 'Vanagon' 'Sunfire' 'S80' 'EV9'\n",
            " '550i' 'LeBaron' 'Celica' 'Entourage' '924 S']\n",
            "642\n"
          ]
        }
      ]
    },
    {
      "cell_type": "code",
      "source": [
        "# Encoder the Model to traning lables\n",
        "Model_encoder = LabelEncoder()\n",
        "df['Model'] = Model_encoder.fit_transform(df['Model'])\n",
        "print(df['Model'].unique())"
      ],
      "metadata": {
        "colab": {
          "base_uri": "https://localhost:8080/"
        },
        "id": "04dC8REr738c",
        "outputId": "fb4e4d8a-00e9-460c-d06f-2a0b5fba4eac"
      },
      "execution_count": 70,
      "outputs": [
        {
          "output_type": "stream",
          "name": "stdout",
          "text": [
            "[127 531 134 105 543 289 624 346 525 292 595 183 392 226 433 414 194 518\n",
            " 126 571 122 211 151  72  84  18 376 516 156 371 311 331 457 217 329 399\n",
            " 316 356  11 310 410 604 218 158 638 600 136 335 332 566   1 400 459 453\n",
            " 338  77 185 270 305 268 142 431 545 597 276 224 225 181 439 437 219 267\n",
            " 411 345 552 249  64 602   6 639  42 321 123 594 167 460 223 561 251   3\n",
            " 288 429 228 182 521 264 252 631 473 285 547 309  37 118 201 281 404 287\n",
            " 162 107 129 565 116 601   4 538 239 546 386 245 468 161 364 641 570 456\n",
            " 326 365 551 448 406 280 259 146  82 618   0 415 266  67 269   5  17  70\n",
            " 454 500  29  65 434 477 147 215 164 271 423  78 374 469 324 515 135  91\n",
            " 419 222 153 528 339 160 517 168 609   7 382 553 464 210 139 527 385 446\n",
            " 555 319  51  19 387 590 442 317 485 384 227 121 540 427  87 350 407  61\n",
            " 556 108 585 169 607 125 325 620 234 261 503 413 367 465 120 101 483 581\n",
            " 588 206  54 507 486 603 354  89 117 320  66 508 273 296 262 479 303 300\n",
            " 432 488 522 221 447 340 143 155 148 170 619 349  45 573   9 398 133 402\n",
            " 373  97 104 436  44 100 440 301 554   2 481 426  60  63 605 265 274 102\n",
            " 466 514 430  92 444 348 606 203 263 361 294 391 502 328 524 244 450 576\n",
            " 357 577 536 193  62 313 563 535 322 344 530 112 124  28 207 351 241 541\n",
            " 199 229 246 279 478 250 626 405 395 416 290 248 497 409 106 560 564 487\n",
            " 445 492 542 355 308 584 119 314  12 614 559 533 633 617 353 622  46 635\n",
            "  20 186 197 378 623 343  40 610 443 495 599   8 441 178  31 438 627 195\n",
            " 636 611 323 369 358 297 491 591 359 480  68  80 463 337  69 475  59  71\n",
            "  90 408 333 111 149  13 582  22  41  24 549 330 496 455 363 140 109 187\n",
            " 608  86 286 172 113 240 598 550 334 435 166  99 397 380 198 342  27 557\n",
            " 621 625 420 526 110 587 176 175 233 283  79 482 575 520  76 341 640  52\n",
            " 372 572  48 327 501 613 130 630 180 523 213  81 637 306 299 114 451  23\n",
            " 360 615 616 304 190  96 567 165 307 509 352 632 278 511 236 412  25 293\n",
            "  74 489 347 232 131 315 235 393 578 192 189 544 379 534  10 504 532 390\n",
            " 512 628 366 476 154 177 291 258 417 256 204 388 362 596 137  88 174 200\n",
            "  43  38 490  26 562  50  14 157 537 494 634 216 179 191 377 589 214 253\n",
            "  21 255 401 474  30  47 230 284 277 375  83 298 242 188 470 580  15 568\n",
            " 428 173 163 272 513 403 282 462  53  94 152 424 394  73  16 569 247  35\n",
            " 529 612 205 368 558 389 592 254 396  98  39  33 629 467  57  93  34  55\n",
            " 498 145  75  49 471 452  85 593 425 212 184 505 138 302 141 171 370 220\n",
            " 318 449 583 493 103 461 275 202 295 506 499 421 208 128  95 132 150 383\n",
            "  36 381 312 231 243 548 260 472 422 115 237 159 586 418 257 458  58 519\n",
            " 238 574 510 579 539 484 196  32 336 144 209  56]\n"
          ]
        }
      ]
    },
    {
      "cell_type": "code",
      "source": [
        "# Check unique Status\n",
        "print(df['Status'].unique())\n",
        "print(df['Status'].nunique())"
      ],
      "metadata": {
        "colab": {
          "base_uri": "https://localhost:8080/"
        },
        "id": "EvpZm0QW7-1B",
        "outputId": "fb4960bc-acc2-4470-ea3f-fa3872618a69"
      },
      "execution_count": 71,
      "outputs": [
        {
          "output_type": "stream",
          "name": "stdout",
          "text": [
            "['New' 'Used' 'Certified']\n",
            "3\n"
          ]
        }
      ]
    },
    {
      "cell_type": "code",
      "source": [
        "# Encoder the Status to traning lables\n",
        "Status_encoder = LabelEncoder()\n",
        "df['Status'] = Status_encoder.fit_transform(df['Status'])\n",
        "print(df['Status'].unique())"
      ],
      "metadata": {
        "colab": {
          "base_uri": "https://localhost:8080/"
        },
        "id": "X9wW2P_Q9eKn",
        "outputId": "c2b9e9dd-727c-402b-f3ad-859c8b33f1b9"
      },
      "execution_count": 72,
      "outputs": [
        {
          "output_type": "stream",
          "name": "stdout",
          "text": [
            "[1 2 0]\n"
          ]
        }
      ]
    },
    {
      "cell_type": "code",
      "source": [
        "df.head()"
      ],
      "metadata": {
        "colab": {
          "base_uri": "https://localhost:8080/",
          "height": 206
        },
        "id": "--tZHeQp9tM6",
        "outputId": "97d249e6-5426-4eba-abcd-b0e2e2dce189"
      },
      "execution_count": 73,
      "outputs": [
        {
          "output_type": "execute_result",
          "data": {
            "text/plain": [
              "   Brand  Model  Year  Status  Mileage    Price\n",
              "0     38    127  2023       1      0.0  36703.0\n",
              "1     28    531  2023       1      0.0  28990.0\n",
              "2      9    134  2024       1      0.0  41425.0\n",
              "3     15    105  2023       2   1551.0  58900.0\n",
              "4      0    543  2021       2  30384.0  34499.0"
            ],
            "text/html": [
              "\n",
              "  <div id=\"df-babec5d7-14a9-42c8-bb7f-cd1fa770f515\" class=\"colab-df-container\">\n",
              "    <div>\n",
              "<style scoped>\n",
              "    .dataframe tbody tr th:only-of-type {\n",
              "        vertical-align: middle;\n",
              "    }\n",
              "\n",
              "    .dataframe tbody tr th {\n",
              "        vertical-align: top;\n",
              "    }\n",
              "\n",
              "    .dataframe thead th {\n",
              "        text-align: right;\n",
              "    }\n",
              "</style>\n",
              "<table border=\"1\" class=\"dataframe\">\n",
              "  <thead>\n",
              "    <tr style=\"text-align: right;\">\n",
              "      <th></th>\n",
              "      <th>Brand</th>\n",
              "      <th>Model</th>\n",
              "      <th>Year</th>\n",
              "      <th>Status</th>\n",
              "      <th>Mileage</th>\n",
              "      <th>Price</th>\n",
              "    </tr>\n",
              "  </thead>\n",
              "  <tbody>\n",
              "    <tr>\n",
              "      <th>0</th>\n",
              "      <td>38</td>\n",
              "      <td>127</td>\n",
              "      <td>2023</td>\n",
              "      <td>1</td>\n",
              "      <td>0.0</td>\n",
              "      <td>36703.0</td>\n",
              "    </tr>\n",
              "    <tr>\n",
              "      <th>1</th>\n",
              "      <td>28</td>\n",
              "      <td>531</td>\n",
              "      <td>2023</td>\n",
              "      <td>1</td>\n",
              "      <td>0.0</td>\n",
              "      <td>28990.0</td>\n",
              "    </tr>\n",
              "    <tr>\n",
              "      <th>2</th>\n",
              "      <td>9</td>\n",
              "      <td>134</td>\n",
              "      <td>2024</td>\n",
              "      <td>1</td>\n",
              "      <td>0.0</td>\n",
              "      <td>41425.0</td>\n",
              "    </tr>\n",
              "    <tr>\n",
              "      <th>3</th>\n",
              "      <td>15</td>\n",
              "      <td>105</td>\n",
              "      <td>2023</td>\n",
              "      <td>2</td>\n",
              "      <td>1551.0</td>\n",
              "      <td>58900.0</td>\n",
              "    </tr>\n",
              "    <tr>\n",
              "      <th>4</th>\n",
              "      <td>0</td>\n",
              "      <td>543</td>\n",
              "      <td>2021</td>\n",
              "      <td>2</td>\n",
              "      <td>30384.0</td>\n",
              "      <td>34499.0</td>\n",
              "    </tr>\n",
              "  </tbody>\n",
              "</table>\n",
              "</div>\n",
              "    <div class=\"colab-df-buttons\">\n",
              "\n",
              "  <div class=\"colab-df-container\">\n",
              "    <button class=\"colab-df-convert\" onclick=\"convertToInteractive('df-babec5d7-14a9-42c8-bb7f-cd1fa770f515')\"\n",
              "            title=\"Convert this dataframe to an interactive table.\"\n",
              "            style=\"display:none;\">\n",
              "\n",
              "  <svg xmlns=\"http://www.w3.org/2000/svg\" height=\"24px\" viewBox=\"0 -960 960 960\">\n",
              "    <path d=\"M120-120v-720h720v720H120Zm60-500h600v-160H180v160Zm220 220h160v-160H400v160Zm0 220h160v-160H400v160ZM180-400h160v-160H180v160Zm440 0h160v-160H620v160ZM180-180h160v-160H180v160Zm440 0h160v-160H620v160Z\"/>\n",
              "  </svg>\n",
              "    </button>\n",
              "\n",
              "  <style>\n",
              "    .colab-df-container {\n",
              "      display:flex;\n",
              "      gap: 12px;\n",
              "    }\n",
              "\n",
              "    .colab-df-convert {\n",
              "      background-color: #E8F0FE;\n",
              "      border: none;\n",
              "      border-radius: 50%;\n",
              "      cursor: pointer;\n",
              "      display: none;\n",
              "      fill: #1967D2;\n",
              "      height: 32px;\n",
              "      padding: 0 0 0 0;\n",
              "      width: 32px;\n",
              "    }\n",
              "\n",
              "    .colab-df-convert:hover {\n",
              "      background-color: #E2EBFA;\n",
              "      box-shadow: 0px 1px 2px rgba(60, 64, 67, 0.3), 0px 1px 3px 1px rgba(60, 64, 67, 0.15);\n",
              "      fill: #174EA6;\n",
              "    }\n",
              "\n",
              "    .colab-df-buttons div {\n",
              "      margin-bottom: 4px;\n",
              "    }\n",
              "\n",
              "    [theme=dark] .colab-df-convert {\n",
              "      background-color: #3B4455;\n",
              "      fill: #D2E3FC;\n",
              "    }\n",
              "\n",
              "    [theme=dark] .colab-df-convert:hover {\n",
              "      background-color: #434B5C;\n",
              "      box-shadow: 0px 1px 3px 1px rgba(0, 0, 0, 0.15);\n",
              "      filter: drop-shadow(0px 1px 2px rgba(0, 0, 0, 0.3));\n",
              "      fill: #FFFFFF;\n",
              "    }\n",
              "  </style>\n",
              "\n",
              "    <script>\n",
              "      const buttonEl =\n",
              "        document.querySelector('#df-babec5d7-14a9-42c8-bb7f-cd1fa770f515 button.colab-df-convert');\n",
              "      buttonEl.style.display =\n",
              "        google.colab.kernel.accessAllowed ? 'block' : 'none';\n",
              "\n",
              "      async function convertToInteractive(key) {\n",
              "        const element = document.querySelector('#df-babec5d7-14a9-42c8-bb7f-cd1fa770f515');\n",
              "        const dataTable =\n",
              "          await google.colab.kernel.invokeFunction('convertToInteractive',\n",
              "                                                    [key], {});\n",
              "        if (!dataTable) return;\n",
              "\n",
              "        const docLinkHtml = 'Like what you see? Visit the ' +\n",
              "          '<a target=\"_blank\" href=https://colab.research.google.com/notebooks/data_table.ipynb>data table notebook</a>'\n",
              "          + ' to learn more about interactive tables.';\n",
              "        element.innerHTML = '';\n",
              "        dataTable['output_type'] = 'display_data';\n",
              "        await google.colab.output.renderOutput(dataTable, element);\n",
              "        const docLink = document.createElement('div');\n",
              "        docLink.innerHTML = docLinkHtml;\n",
              "        element.appendChild(docLink);\n",
              "      }\n",
              "    </script>\n",
              "  </div>\n",
              "\n",
              "\n",
              "<div id=\"df-01c166c4-e242-4b23-9dc5-2b3a459d0321\">\n",
              "  <button class=\"colab-df-quickchart\" onclick=\"quickchart('df-01c166c4-e242-4b23-9dc5-2b3a459d0321')\"\n",
              "            title=\"Suggest charts\"\n",
              "            style=\"display:none;\">\n",
              "\n",
              "<svg xmlns=\"http://www.w3.org/2000/svg\" height=\"24px\"viewBox=\"0 0 24 24\"\n",
              "     width=\"24px\">\n",
              "    <g>\n",
              "        <path d=\"M19 3H5c-1.1 0-2 .9-2 2v14c0 1.1.9 2 2 2h14c1.1 0 2-.9 2-2V5c0-1.1-.9-2-2-2zM9 17H7v-7h2v7zm4 0h-2V7h2v10zm4 0h-2v-4h2v4z\"/>\n",
              "    </g>\n",
              "</svg>\n",
              "  </button>\n",
              "\n",
              "<style>\n",
              "  .colab-df-quickchart {\n",
              "      --bg-color: #E8F0FE;\n",
              "      --fill-color: #1967D2;\n",
              "      --hover-bg-color: #E2EBFA;\n",
              "      --hover-fill-color: #174EA6;\n",
              "      --disabled-fill-color: #AAA;\n",
              "      --disabled-bg-color: #DDD;\n",
              "  }\n",
              "\n",
              "  [theme=dark] .colab-df-quickchart {\n",
              "      --bg-color: #3B4455;\n",
              "      --fill-color: #D2E3FC;\n",
              "      --hover-bg-color: #434B5C;\n",
              "      --hover-fill-color: #FFFFFF;\n",
              "      --disabled-bg-color: #3B4455;\n",
              "      --disabled-fill-color: #666;\n",
              "  }\n",
              "\n",
              "  .colab-df-quickchart {\n",
              "    background-color: var(--bg-color);\n",
              "    border: none;\n",
              "    border-radius: 50%;\n",
              "    cursor: pointer;\n",
              "    display: none;\n",
              "    fill: var(--fill-color);\n",
              "    height: 32px;\n",
              "    padding: 0;\n",
              "    width: 32px;\n",
              "  }\n",
              "\n",
              "  .colab-df-quickchart:hover {\n",
              "    background-color: var(--hover-bg-color);\n",
              "    box-shadow: 0 1px 2px rgba(60, 64, 67, 0.3), 0 1px 3px 1px rgba(60, 64, 67, 0.15);\n",
              "    fill: var(--button-hover-fill-color);\n",
              "  }\n",
              "\n",
              "  .colab-df-quickchart-complete:disabled,\n",
              "  .colab-df-quickchart-complete:disabled:hover {\n",
              "    background-color: var(--disabled-bg-color);\n",
              "    fill: var(--disabled-fill-color);\n",
              "    box-shadow: none;\n",
              "  }\n",
              "\n",
              "  .colab-df-spinner {\n",
              "    border: 2px solid var(--fill-color);\n",
              "    border-color: transparent;\n",
              "    border-bottom-color: var(--fill-color);\n",
              "    animation:\n",
              "      spin 1s steps(1) infinite;\n",
              "  }\n",
              "\n",
              "  @keyframes spin {\n",
              "    0% {\n",
              "      border-color: transparent;\n",
              "      border-bottom-color: var(--fill-color);\n",
              "      border-left-color: var(--fill-color);\n",
              "    }\n",
              "    20% {\n",
              "      border-color: transparent;\n",
              "      border-left-color: var(--fill-color);\n",
              "      border-top-color: var(--fill-color);\n",
              "    }\n",
              "    30% {\n",
              "      border-color: transparent;\n",
              "      border-left-color: var(--fill-color);\n",
              "      border-top-color: var(--fill-color);\n",
              "      border-right-color: var(--fill-color);\n",
              "    }\n",
              "    40% {\n",
              "      border-color: transparent;\n",
              "      border-right-color: var(--fill-color);\n",
              "      border-top-color: var(--fill-color);\n",
              "    }\n",
              "    60% {\n",
              "      border-color: transparent;\n",
              "      border-right-color: var(--fill-color);\n",
              "    }\n",
              "    80% {\n",
              "      border-color: transparent;\n",
              "      border-right-color: var(--fill-color);\n",
              "      border-bottom-color: var(--fill-color);\n",
              "    }\n",
              "    90% {\n",
              "      border-color: transparent;\n",
              "      border-bottom-color: var(--fill-color);\n",
              "    }\n",
              "  }\n",
              "</style>\n",
              "\n",
              "  <script>\n",
              "    async function quickchart(key) {\n",
              "      const quickchartButtonEl =\n",
              "        document.querySelector('#' + key + ' button');\n",
              "      quickchartButtonEl.disabled = true;  // To prevent multiple clicks.\n",
              "      quickchartButtonEl.classList.add('colab-df-spinner');\n",
              "      try {\n",
              "        const charts = await google.colab.kernel.invokeFunction(\n",
              "            'suggestCharts', [key], {});\n",
              "      } catch (error) {\n",
              "        console.error('Error during call to suggestCharts:', error);\n",
              "      }\n",
              "      quickchartButtonEl.classList.remove('colab-df-spinner');\n",
              "      quickchartButtonEl.classList.add('colab-df-quickchart-complete');\n",
              "    }\n",
              "    (() => {\n",
              "      let quickchartButtonEl =\n",
              "        document.querySelector('#df-01c166c4-e242-4b23-9dc5-2b3a459d0321 button');\n",
              "      quickchartButtonEl.style.display =\n",
              "        google.colab.kernel.accessAllowed ? 'block' : 'none';\n",
              "    })();\n",
              "  </script>\n",
              "</div>\n",
              "\n",
              "    </div>\n",
              "  </div>\n"
            ],
            "application/vnd.google.colaboratory.intrinsic+json": {
              "type": "dataframe",
              "variable_name": "df"
            }
          },
          "metadata": {},
          "execution_count": 73
        }
      ]
    },
    {
      "cell_type": "markdown",
      "source": [
        "#Normalize All Features & Target"
      ],
      "metadata": {
        "id": "d0eT6DKO94mQ"
      }
    },
    {
      "cell_type": "code",
      "source": [
        "# Split data into features (X) and target (y)\n",
        "X = df.drop('Price', axis=1).values\n",
        "y = df['Price'].values\n",
        "\n",
        "# Normalize all features using MinMaxScaler\n",
        "scaler_X = MinMaxScaler()\n",
        "X = scaler_X.fit_transform(X)\n",
        "\n",
        "# Normalize the target variable (y) using MinMaxScaler\n",
        "scaler_y = MinMaxScaler()\n",
        "y = scaler_y.fit_transform(y.reshape(-1, 1)).flatten()  # Flatten to match original shape"
      ],
      "metadata": {
        "id": "KLXGkYwB93zl"
      },
      "execution_count": 74,
      "outputs": []
    },
    {
      "cell_type": "code",
      "source": [
        "X[0:10]"
      ],
      "metadata": {
        "colab": {
          "base_uri": "https://localhost:8080/"
        },
        "id": "Z_gYYW1IBjhZ",
        "outputId": "d96f28e9-8318-42e8-a28a-b6be17b09e81"
      },
      "execution_count": 75,
      "outputs": [
        {
          "output_type": "execute_result",
          "data": {
            "text/plain": [
              "array([[0.62295082, 0.19812793, 0.98461538, 0.5       , 0.        ],\n",
              "       [0.45901639, 0.82839314, 0.98461538, 0.5       , 0.        ],\n",
              "       [0.14754098, 0.20904836, 1.        , 0.5       , 0.        ],\n",
              "       [0.24590164, 0.16380655, 0.98461538, 1.        , 0.00370082],\n",
              "       [0.        , 0.84711388, 0.95384615, 1.        , 0.0724989 ],\n",
              "       [0.98360656, 0.45085803, 0.96923077, 0.        , 0.03315469],\n",
              "       [0.26229508, 0.97347894, 0.95384615, 1.        , 0.16346135],\n",
              "       [0.06557377, 0.53978159, 0.98461538, 0.5       , 0.        ],\n",
              "       [0.3442623 , 0.81903276, 0.98461538, 0.5       , 0.        ],\n",
              "       [0.3442623 , 0.81903276, 0.98461538, 0.5       , 0.        ]])"
            ]
          },
          "metadata": {},
          "execution_count": 75
        }
      ]
    },
    {
      "cell_type": "code",
      "source": [
        "y[0:10]"
      ],
      "metadata": {
        "colab": {
          "base_uri": "https://localhost:8080/"
        },
        "id": "TTBsHxooBrEk",
        "outputId": "eb9974b8-fb99-4c19-dbeb-ff398bd8745e"
      },
      "execution_count": 76,
      "outputs": [
        {
          "output_type": "execute_result",
          "data": {
            "text/plain": [
              "array([0.00454336, 0.00358857, 0.0051279 , 0.00729114, 0.00427053,\n",
              "       0.00420876, 0.00705024, 0.00763961, 0.00469711, 0.00414624])"
            ]
          },
          "metadata": {},
          "execution_count": 76
        }
      ]
    },
    {
      "cell_type": "markdown",
      "source": [
        "# Model Build"
      ],
      "metadata": {
        "id": "LPtqht6-B3QJ"
      }
    },
    {
      "cell_type": "code",
      "source": [
        "# Split the dataset into training and testing sets\n",
        "X_train, X_test, y_train, y_test = train_test_split(X, y, test_size=0.2, random_state=42)\n",
        "\n",
        "# Convert data to PyTorch tensors\n",
        "X_train = torch.tensor(X_train, dtype=torch.float32)\n",
        "y_train = torch.tensor(y_train, dtype=torch.float32).view(-1, 1)\n",
        "X_test = torch.tensor(X_test, dtype=torch.float32)\n",
        "y_test = torch.tensor(y_test, dtype=torch.float32).view(-1, 1)"
      ],
      "metadata": {
        "id": "tgFzkIZNB2Rn"
      },
      "execution_count": 95,
      "outputs": []
    },
    {
      "cell_type": "code",
      "source": [
        "# Define Neural Network\n",
        "class PricePredictionModel(nn.Module):\n",
        "    def __init__(self):\n",
        "        super(PricePredictionModel, self).__init__()\n",
        "        self.fc1 = nn.Linear(X_train.shape[1], 64)\n",
        "        self.dropout1 = nn.Dropout(0.5)  # 50% dropout\n",
        "        self.fc2 = nn.Linear(64, 32)\n",
        "        self.dropout2 = nn.Dropout(0.5)\n",
        "        self.fc3 = nn.Linear(32, 1)\n",
        "\n",
        "    def forward(self, x):\n",
        "        x = torch.relu(self.fc1(x))\n",
        "        x = self.dropout1(x)\n",
        "        x = torch.relu(self.fc2(x))\n",
        "        x = self.dropout2(x)\n",
        "        x = self.fc3(x)\n",
        "        return x"
      ],
      "metadata": {
        "id": "TMW_gEegCpOL"
      },
      "execution_count": 96,
      "outputs": []
    },
    {
      "cell_type": "code",
      "source": [
        "# Initialize the model, loss function, and optimizer\n",
        "model = PricePredictionModel()\n",
        "criterion = nn.MSELoss()\n",
        "optimizer = optim.Adam(model.parameters(), lr=0.001)"
      ],
      "metadata": {
        "id": "nOXoMCZtCtfm"
      },
      "execution_count": 97,
      "outputs": []
    },
    {
      "cell_type": "code",
      "source": [
        "# Train the model\n",
        "num_epochs = 300\n",
        "for epoch in range(num_epochs):\n",
        "    model.train()\n",
        "    optimizer.zero_grad()\n",
        "    outputs = model(X_train)\n",
        "    loss = criterion(outputs, y_train)\n",
        "    loss.backward()\n",
        "    optimizer.step()\n",
        "\n",
        "    if (epoch + 1) % 30 == 0:\n",
        "        print(f'Epoch [{epoch + 1}/{num_epochs}], Loss: {loss.item():.4f}')"
      ],
      "metadata": {
        "colab": {
          "base_uri": "https://localhost:8080/"
        },
        "id": "5uV1ME6OCwu2",
        "outputId": "67510d29-96b5-44e1-d2e2-86150c188939"
      },
      "execution_count": 119,
      "outputs": [
        {
          "output_type": "stream",
          "name": "stdout",
          "text": [
            "Epoch [10/100], Loss: 0.0005\n",
            "Epoch [20/100], Loss: 0.0005\n",
            "Epoch [30/100], Loss: 0.0005\n",
            "Epoch [40/100], Loss: 0.0004\n",
            "Epoch [50/100], Loss: 0.0004\n",
            "Epoch [60/100], Loss: 0.0003\n",
            "Epoch [70/100], Loss: 0.0003\n",
            "Epoch [80/100], Loss: 0.0003\n",
            "Epoch [90/100], Loss: 0.0003\n",
            "Epoch [100/100], Loss: 0.0002\n"
          ]
        }
      ]
    },
    {
      "cell_type": "code",
      "source": [
        "# Evaluate the model on the test set\n",
        "model.eval()\n",
        "with torch.no_grad():\n",
        "    predictions = model(X_test)\n",
        "    mse = mean_squared_error(y_test.numpy(), predictions.numpy())\n",
        "    print(f'Test MSE: {mse:.4f}')"
      ],
      "metadata": {
        "colab": {
          "base_uri": "https://localhost:8080/"
        },
        "id": "S8C3tv2SCzHd",
        "outputId": "5787795a-4cdc-4089-8496-54e21bea6a63"
      },
      "execution_count": 120,
      "outputs": [
        {
          "output_type": "stream",
          "name": "stdout",
          "text": [
            "Test MSE: 0.0001\n"
          ]
        }
      ]
    },
    {
      "cell_type": "code",
      "source": [
        "# Predict price for a new car entry\n",
        "new_data = pd.DataFrame({\n",
        "    'Brand': ['Toyota'],\n",
        "    'Model': ['Camry'],\n",
        "    'Year': [2020],\n",
        "    'Status': ['Used'],\n",
        "    'Mileage': [15000.0],\n",
        "})\n",
        "\n",
        "# Encode and normalize new data using the same MinMaxScaler\n",
        "new_data['Brand'] = Brand_encoder.transform(new_data['Brand'])\n",
        "new_data['Model'] = Model_encoder.transform(new_data['Model'])\n",
        "new_data['Status'] = Status_encoder.transform(new_data['Status'])\n",
        "\n",
        "new_data_scaled = scaler_X.transform(new_data.values)\n",
        "new_data_tensor = torch.tensor(new_data_scaled, dtype=torch.float32)"
      ],
      "metadata": {
        "id": "vKglME6aDQ6O"
      },
      "execution_count": 121,
      "outputs": []
    },
    {
      "cell_type": "code",
      "source": [
        "new_data_scaled"
      ],
      "metadata": {
        "colab": {
          "base_uri": "https://localhost:8080/"
        },
        "id": "3dpV_sOBUq9m",
        "outputId": "c451578f-8d51-4965-d456-45ed6eaf9e3a"
      },
      "execution_count": 122,
      "outputs": [
        {
          "output_type": "execute_result",
          "data": {
            "text/plain": [
              "array([[0.96721311, 0.21060842, 0.93846154, 1.        , 0.03579132]])"
            ]
          },
          "metadata": {},
          "execution_count": 122
        }
      ]
    },
    {
      "cell_type": "code",
      "source": [
        "# Predict price and inverse transform\n",
        "model.eval()\n",
        "with torch.no_grad():\n",
        "    predicted_price_normalized = model(new_data_tensor)\n",
        "    predicted_price = scaler_y.inverse_transform(predicted_price_normalized.numpy().reshape(-1, 1))\n",
        "    print(f\"Predicted Price: {predicted_price[0][0]:.2f}\")"
      ],
      "metadata": {
        "colab": {
          "base_uri": "https://localhost:8080/"
        },
        "id": "LPt20vxmUj2D",
        "outputId": "5249e400-db4e-4f38-81ad-b57d9d03c7ec"
      },
      "execution_count": 123,
      "outputs": [
        {
          "output_type": "stream",
          "name": "stdout",
          "text": [
            "Predicted Price: 5999.46\n"
          ]
        }
      ]
    },
    {
      "cell_type": "code",
      "source": [
        "predicted_price_normalized"
      ],
      "metadata": {
        "colab": {
          "base_uri": "https://localhost:8080/"
        },
        "id": "sKE_Fp2kZwf4",
        "outputId": "11444af3-94f6-4526-856d-8ac07162038b"
      },
      "execution_count": 124,
      "outputs": [
        {
          "output_type": "execute_result",
          "data": {
            "text/plain": [
              "tensor([[0.0007]])"
            ]
          },
          "metadata": {},
          "execution_count": 124
        }
      ]
    }
  ]
}